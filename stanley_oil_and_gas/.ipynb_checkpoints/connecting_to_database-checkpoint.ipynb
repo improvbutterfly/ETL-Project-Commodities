{
 "cells": [
  {
   "cell_type": "code",
   "execution_count": 1,
   "metadata": {},
   "outputs": [],
   "source": [
    "import psycopg2"
   ]
  },
  {
   "cell_type": "code",
   "execution_count": 2,
   "metadata": {},
   "outputs": [],
   "source": [
    "import pandas as pd\n",
    "import sqlalchemy\n",
    "import matplotlib.pyplot as plt\n",
    "import os"
   ]
  },
  {
   "cell_type": "code",
   "execution_count": 3,
   "metadata": {},
   "outputs": [
    {
     "data": {
      "text/plain": [
       "True"
      ]
     },
     "execution_count": 3,
     "metadata": {},
     "output_type": "execute_result"
    }
   ],
   "source": [
    "from dotenv import load_dotenv\n",
    "\n",
    "load_dotenv()"
   ]
  },
  {
   "cell_type": "code",
   "execution_count": 4,
   "metadata": {},
   "outputs": [],
   "source": [
    "from sqlalchemy import create_engine\n",
    "\n",
    "# Postgres username, password, and database name\n",
    "POSTGRES_USERNAME = os.getenv(\"ENV_USERNAME\")  ## CHANGE THIS TO YOUR PANOPLY/POSTGRES USERNAME\n",
    "POSTGRES_PASSWORD = os.getenv(\"ENV_PASSWORD\") ## CHANGE THIS TO YOUR PANOPLY/POSTGRES PASSWORD POSTGRES_DBNAME = 'database' ## CHANGE THIS TO YOUR DATABASE NAME\n",
    "POSTGRES_ADDRESS = os.getenv(\"ENV_ADDRESS\")  ## INSERT YOUR DB ADDRESS IF IT'S NOT ON PANOPLY\n",
    "POSTGRES_PORT = os.getenv(\"ENV_PORT\") \n",
    "POSTGRES_DBNAME = 'birds'\n",
    "# A long string that contains the necessary Postgres login information\n",
    "postgres_str = ('postgresql://{username}:{password}@{ipaddress}:{port}/{dbname}'\n",
    "                .format(username=POSTGRES_USERNAME,\n",
    "                        password=POSTGRES_PASSWORD,\n",
    "                        ipaddress=POSTGRES_ADDRESS,\n",
    "                        port=POSTGRES_PORT,\n",
    "                        dbname=POSTGRES_DBNAME))\n",
    "# Create the connection\n",
    "engine = create_engine(postgres_str)\n",
    "cnx = engine.connect()"
   ]
  },
  {
   "cell_type": "code",
   "execution_count": 5,
   "metadata": {},
   "outputs": [],
   "source": [
    "birds = pd.read_sql_query('''SELECT * FROM birds_table;''', cnx)"
   ]
  },
  {
   "cell_type": "code",
   "execution_count": 8,
   "metadata": {},
   "outputs": [],
   "source": [
    "birds_df = birds.copy()"
   ]
  },
  {
   "cell_type": "code",
   "execution_count": 9,
   "metadata": {},
   "outputs": [
    {
     "data": {
      "text/plain": [
       "<bound method DataFrame.info of         english_name         country  latitude  longitude   id\n",
       "0     Common Redpoll          Poland   50.7932    15.4995    1\n",
       "1     Common Redpoll          Poland   50.7932    15.4995    2\n",
       "2     Common Redpoll     Netherlands   52.8176     6.4326    3\n",
       "3      Marsh Warbler  United Kingdom   60.3539    -1.2689    4\n",
       "4      Marsh Warbler  United Kingdom   60.3539    -1.2689    5\n",
       "..               ...             ...       ...        ...  ...\n",
       "95    European Robin  United Kingdom   55.9937    -3.5605   96\n",
       "96  Common Chaffinch  United Kingdom   51.5676     0.0451   97\n",
       "97  Common Chaffinch  United Kingdom   49.9172    -6.3034   98\n",
       "98  Common Chaffinch  United Kingdom   54.1245    -0.5722   99\n",
       "99     Eurasian Coot     Netherlands   52.2962     5.1231  100\n",
       "\n",
       "[100 rows x 5 columns]>"
      ]
     },
     "execution_count": 9,
     "metadata": {},
     "output_type": "execute_result"
    }
   ],
   "source": [
    "birds_df.info"
   ]
  },
  {
   "cell_type": "code",
   "execution_count": 11,
   "metadata": {},
   "outputs": [],
   "source": [
    "del birds_df['id']"
   ]
  },
  {
   "cell_type": "code",
   "execution_count": 12,
   "metadata": {},
   "outputs": [
    {
     "data": {
      "text/html": [
       "<div>\n",
       "<style scoped>\n",
       "    .dataframe tbody tr th:only-of-type {\n",
       "        vertical-align: middle;\n",
       "    }\n",
       "\n",
       "    .dataframe tbody tr th {\n",
       "        vertical-align: top;\n",
       "    }\n",
       "\n",
       "    .dataframe thead th {\n",
       "        text-align: right;\n",
       "    }\n",
       "</style>\n",
       "<table border=\"1\" class=\"dataframe\">\n",
       "  <thead>\n",
       "    <tr style=\"text-align: right;\">\n",
       "      <th></th>\n",
       "      <th>english_name</th>\n",
       "      <th>country</th>\n",
       "      <th>latitude</th>\n",
       "      <th>longitude</th>\n",
       "      <th>id</th>\n",
       "    </tr>\n",
       "  </thead>\n",
       "  <tbody>\n",
       "    <tr>\n",
       "      <th>0</th>\n",
       "      <td>Common Redpoll</td>\n",
       "      <td>Poland</td>\n",
       "      <td>50.7932</td>\n",
       "      <td>15.4995</td>\n",
       "      <td>1</td>\n",
       "    </tr>\n",
       "    <tr>\n",
       "      <th>1</th>\n",
       "      <td>Common Redpoll</td>\n",
       "      <td>Poland</td>\n",
       "      <td>50.7932</td>\n",
       "      <td>15.4995</td>\n",
       "      <td>2</td>\n",
       "    </tr>\n",
       "    <tr>\n",
       "      <th>2</th>\n",
       "      <td>Common Redpoll</td>\n",
       "      <td>Netherlands</td>\n",
       "      <td>52.8176</td>\n",
       "      <td>6.4326</td>\n",
       "      <td>3</td>\n",
       "    </tr>\n",
       "    <tr>\n",
       "      <th>3</th>\n",
       "      <td>Marsh Warbler</td>\n",
       "      <td>United Kingdom</td>\n",
       "      <td>60.3539</td>\n",
       "      <td>-1.2689</td>\n",
       "      <td>4</td>\n",
       "    </tr>\n",
       "    <tr>\n",
       "      <th>4</th>\n",
       "      <td>Marsh Warbler</td>\n",
       "      <td>United Kingdom</td>\n",
       "      <td>60.3539</td>\n",
       "      <td>-1.2689</td>\n",
       "      <td>5</td>\n",
       "    </tr>\n",
       "    <tr>\n",
       "      <th>...</th>\n",
       "      <td>...</td>\n",
       "      <td>...</td>\n",
       "      <td>...</td>\n",
       "      <td>...</td>\n",
       "      <td>...</td>\n",
       "    </tr>\n",
       "    <tr>\n",
       "      <th>95</th>\n",
       "      <td>European Robin</td>\n",
       "      <td>United Kingdom</td>\n",
       "      <td>55.9937</td>\n",
       "      <td>-3.5605</td>\n",
       "      <td>96</td>\n",
       "    </tr>\n",
       "    <tr>\n",
       "      <th>96</th>\n",
       "      <td>Common Chaffinch</td>\n",
       "      <td>United Kingdom</td>\n",
       "      <td>51.5676</td>\n",
       "      <td>0.0451</td>\n",
       "      <td>97</td>\n",
       "    </tr>\n",
       "    <tr>\n",
       "      <th>97</th>\n",
       "      <td>Common Chaffinch</td>\n",
       "      <td>United Kingdom</td>\n",
       "      <td>49.9172</td>\n",
       "      <td>-6.3034</td>\n",
       "      <td>98</td>\n",
       "    </tr>\n",
       "    <tr>\n",
       "      <th>98</th>\n",
       "      <td>Common Chaffinch</td>\n",
       "      <td>United Kingdom</td>\n",
       "      <td>54.1245</td>\n",
       "      <td>-0.5722</td>\n",
       "      <td>99</td>\n",
       "    </tr>\n",
       "    <tr>\n",
       "      <th>99</th>\n",
       "      <td>Eurasian Coot</td>\n",
       "      <td>Netherlands</td>\n",
       "      <td>52.2962</td>\n",
       "      <td>5.1231</td>\n",
       "      <td>100</td>\n",
       "    </tr>\n",
       "  </tbody>\n",
       "</table>\n",
       "<p>100 rows × 5 columns</p>\n",
       "</div>"
      ],
      "text/plain": [
       "        english_name         country  latitude  longitude   id\n",
       "0     Common Redpoll          Poland   50.7932    15.4995    1\n",
       "1     Common Redpoll          Poland   50.7932    15.4995    2\n",
       "2     Common Redpoll     Netherlands   52.8176     6.4326    3\n",
       "3      Marsh Warbler  United Kingdom   60.3539    -1.2689    4\n",
       "4      Marsh Warbler  United Kingdom   60.3539    -1.2689    5\n",
       "..               ...             ...       ...        ...  ...\n",
       "95    European Robin  United Kingdom   55.9937    -3.5605   96\n",
       "96  Common Chaffinch  United Kingdom   51.5676     0.0451   97\n",
       "97  Common Chaffinch  United Kingdom   49.9172    -6.3034   98\n",
       "98  Common Chaffinch  United Kingdom   54.1245    -0.5722   99\n",
       "99     Eurasian Coot     Netherlands   52.2962     5.1231  100\n",
       "\n",
       "[100 rows x 5 columns]"
      ]
     },
     "execution_count": 12,
     "metadata": {},
     "output_type": "execute_result"
    }
   ],
   "source": [
    "birds"
   ]
  },
  {
   "cell_type": "code",
   "execution_count": 13,
   "metadata": {},
   "outputs": [
    {
     "data": {
      "text/html": [
       "<div>\n",
       "<style scoped>\n",
       "    .dataframe tbody tr th:only-of-type {\n",
       "        vertical-align: middle;\n",
       "    }\n",
       "\n",
       "    .dataframe tbody tr th {\n",
       "        vertical-align: top;\n",
       "    }\n",
       "\n",
       "    .dataframe thead th {\n",
       "        text-align: right;\n",
       "    }\n",
       "</style>\n",
       "<table border=\"1\" class=\"dataframe\">\n",
       "  <thead>\n",
       "    <tr style=\"text-align: right;\">\n",
       "      <th></th>\n",
       "      <th>english_name</th>\n",
       "      <th>country</th>\n",
       "      <th>latitude</th>\n",
       "      <th>longitude</th>\n",
       "    </tr>\n",
       "  </thead>\n",
       "  <tbody>\n",
       "    <tr>\n",
       "      <th>0</th>\n",
       "      <td>Common Redpoll</td>\n",
       "      <td>Poland</td>\n",
       "      <td>50.7932</td>\n",
       "      <td>15.4995</td>\n",
       "    </tr>\n",
       "    <tr>\n",
       "      <th>1</th>\n",
       "      <td>Common Redpoll</td>\n",
       "      <td>Poland</td>\n",
       "      <td>50.7932</td>\n",
       "      <td>15.4995</td>\n",
       "    </tr>\n",
       "    <tr>\n",
       "      <th>2</th>\n",
       "      <td>Common Redpoll</td>\n",
       "      <td>Netherlands</td>\n",
       "      <td>52.8176</td>\n",
       "      <td>6.4326</td>\n",
       "    </tr>\n",
       "    <tr>\n",
       "      <th>3</th>\n",
       "      <td>Marsh Warbler</td>\n",
       "      <td>United Kingdom</td>\n",
       "      <td>60.3539</td>\n",
       "      <td>-1.2689</td>\n",
       "    </tr>\n",
       "    <tr>\n",
       "      <th>4</th>\n",
       "      <td>Marsh Warbler</td>\n",
       "      <td>United Kingdom</td>\n",
       "      <td>60.3539</td>\n",
       "      <td>-1.2689</td>\n",
       "    </tr>\n",
       "    <tr>\n",
       "      <th>...</th>\n",
       "      <td>...</td>\n",
       "      <td>...</td>\n",
       "      <td>...</td>\n",
       "      <td>...</td>\n",
       "    </tr>\n",
       "    <tr>\n",
       "      <th>95</th>\n",
       "      <td>European Robin</td>\n",
       "      <td>United Kingdom</td>\n",
       "      <td>55.9937</td>\n",
       "      <td>-3.5605</td>\n",
       "    </tr>\n",
       "    <tr>\n",
       "      <th>96</th>\n",
       "      <td>Common Chaffinch</td>\n",
       "      <td>United Kingdom</td>\n",
       "      <td>51.5676</td>\n",
       "      <td>0.0451</td>\n",
       "    </tr>\n",
       "    <tr>\n",
       "      <th>97</th>\n",
       "      <td>Common Chaffinch</td>\n",
       "      <td>United Kingdom</td>\n",
       "      <td>49.9172</td>\n",
       "      <td>-6.3034</td>\n",
       "    </tr>\n",
       "    <tr>\n",
       "      <th>98</th>\n",
       "      <td>Common Chaffinch</td>\n",
       "      <td>United Kingdom</td>\n",
       "      <td>54.1245</td>\n",
       "      <td>-0.5722</td>\n",
       "    </tr>\n",
       "    <tr>\n",
       "      <th>99</th>\n",
       "      <td>Eurasian Coot</td>\n",
       "      <td>Netherlands</td>\n",
       "      <td>52.2962</td>\n",
       "      <td>5.1231</td>\n",
       "    </tr>\n",
       "  </tbody>\n",
       "</table>\n",
       "<p>100 rows × 4 columns</p>\n",
       "</div>"
      ],
      "text/plain": [
       "        english_name         country  latitude  longitude\n",
       "0     Common Redpoll          Poland   50.7932    15.4995\n",
       "1     Common Redpoll          Poland   50.7932    15.4995\n",
       "2     Common Redpoll     Netherlands   52.8176     6.4326\n",
       "3      Marsh Warbler  United Kingdom   60.3539    -1.2689\n",
       "4      Marsh Warbler  United Kingdom   60.3539    -1.2689\n",
       "..               ...             ...       ...        ...\n",
       "95    European Robin  United Kingdom   55.9937    -3.5605\n",
       "96  Common Chaffinch  United Kingdom   51.5676     0.0451\n",
       "97  Common Chaffinch  United Kingdom   49.9172    -6.3034\n",
       "98  Common Chaffinch  United Kingdom   54.1245    -0.5722\n",
       "99     Eurasian Coot     Netherlands   52.2962     5.1231\n",
       "\n",
       "[100 rows x 4 columns]"
      ]
     },
     "execution_count": 13,
     "metadata": {},
     "output_type": "execute_result"
    }
   ],
   "source": [
    "birds_df"
   ]
  },
  {
   "cell_type": "code",
   "execution_count": 14,
   "metadata": {},
   "outputs": [],
   "source": [
    "birds_df.to_sql('birds_df', con=engine, if_exists='append', index=False)"
   ]
  },
  {
   "cell_type": "code",
   "execution_count": null,
   "metadata": {},
   "outputs": [],
   "source": []
  }
 ],
 "metadata": {
  "kernelspec": {
   "display_name": "Python 3",
   "language": "python",
   "name": "python3"
  },
  "language_info": {
   "codemirror_mode": {
    "name": "ipython",
    "version": 3
   },
   "file_extension": ".py",
   "mimetype": "text/x-python",
   "name": "python",
   "nbconvert_exporter": "python",
   "pygments_lexer": "ipython3",
   "version": "3.7.6"
  }
 },
 "nbformat": 4,
 "nbformat_minor": 4
}
