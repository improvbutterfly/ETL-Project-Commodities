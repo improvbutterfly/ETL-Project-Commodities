{
 "cells": [
  {
   "cell_type": "code",
   "execution_count": 15,
   "metadata": {},
   "outputs": [],
   "source": [
    "import pandas as pd\n",
    "from sqlalchemy import create_engine\n",
    "from sqlalchemy.types import Integer, Text, String, DateTime\n",
    "import matplotlib.pyplot as plt\n",
    "\n",
    "import datetime"
   ]
  },
  {
   "cell_type": "code",
   "execution_count": 30,
   "metadata": {},
   "outputs": [
    {
     "data": {
      "text/html": [
       "<div>\n",
       "<style scoped>\n",
       "    .dataframe tbody tr th:only-of-type {\n",
       "        vertical-align: middle;\n",
       "    }\n",
       "\n",
       "    .dataframe tbody tr th {\n",
       "        vertical-align: top;\n",
       "    }\n",
       "\n",
       "    .dataframe thead th {\n",
       "        text-align: right;\n",
       "    }\n",
       "</style>\n",
       "<table border=\"1\" class=\"dataframe\">\n",
       "  <thead>\n",
       "    <tr style=\"text-align: right;\">\n",
       "      <th></th>\n",
       "      <th>Date</th>\n",
       "      <th>Price</th>\n",
       "      <th>Open</th>\n",
       "      <th>High</th>\n",
       "      <th>Low</th>\n",
       "      <th>Vol.</th>\n",
       "      <th>Change %</th>\n",
       "    </tr>\n",
       "  </thead>\n",
       "  <tbody>\n",
       "    <tr>\n",
       "      <th>0</th>\n",
       "      <td>2020-11-11</td>\n",
       "      <td>64.80</td>\n",
       "      <td>65.15</td>\n",
       "      <td>65.78</td>\n",
       "      <td>63.60</td>\n",
       "      <td>-</td>\n",
       "      <td>-0.50%</td>\n",
       "    </tr>\n",
       "    <tr>\n",
       "      <th>1</th>\n",
       "      <td>2020-11-10</td>\n",
       "      <td>65.13</td>\n",
       "      <td>66.30</td>\n",
       "      <td>66.30</td>\n",
       "      <td>64.90</td>\n",
       "      <td>24.09K</td>\n",
       "      <td>-0.72%</td>\n",
       "    </tr>\n",
       "    <tr>\n",
       "      <th>2</th>\n",
       "      <td>2020-11-09</td>\n",
       "      <td>65.60</td>\n",
       "      <td>65.80</td>\n",
       "      <td>66.57</td>\n",
       "      <td>65.25</td>\n",
       "      <td>25.74K</td>\n",
       "      <td>1.08%</td>\n",
       "    </tr>\n",
       "    <tr>\n",
       "      <th>3</th>\n",
       "      <td>2020-11-06</td>\n",
       "      <td>64.90</td>\n",
       "      <td>67.00</td>\n",
       "      <td>67.57</td>\n",
       "      <td>64.63</td>\n",
       "      <td>32.11K</td>\n",
       "      <td>-3.74%</td>\n",
       "    </tr>\n",
       "    <tr>\n",
       "      <th>4</th>\n",
       "      <td>2020-11-05</td>\n",
       "      <td>67.43</td>\n",
       "      <td>66.88</td>\n",
       "      <td>67.60</td>\n",
       "      <td>66.43</td>\n",
       "      <td>18.71K</td>\n",
       "      <td>1.62%</td>\n",
       "    </tr>\n",
       "  </tbody>\n",
       "</table>\n",
       "</div>"
      ],
      "text/plain": [
       "        Date  Price   Open   High    Low    Vol. Change %\n",
       "0 2020-11-11  64.80  65.15  65.78  63.60       -   -0.50%\n",
       "1 2020-11-10  65.13  66.30  66.30  64.90  24.09K   -0.72%\n",
       "2 2020-11-09  65.60  65.80  66.57  65.25  25.74K    1.08%\n",
       "3 2020-11-06  64.90  67.00  67.57  64.63  32.11K   -3.74%\n",
       "4 2020-11-05  67.43  66.88  67.60  66.43  18.71K    1.62%"
      ]
     },
     "execution_count": 30,
     "metadata": {},
     "output_type": "execute_result"
    }
   ],
   "source": [
    "lean_hogs = pd.read_csv(\"../original_data/lean_hogs.csv\")\n",
    "lean_hogs[\"Date\"] = pd.to_datetime(lean_hogs[\"Date\"])\n",
    "lean_hogs.head()"
   ]
  },
  {
   "cell_type": "code",
   "execution_count": 31,
   "metadata": {},
   "outputs": [
    {
     "data": {
      "text/html": [
       "<div>\n",
       "<style scoped>\n",
       "    .dataframe tbody tr th:only-of-type {\n",
       "        vertical-align: middle;\n",
       "    }\n",
       "\n",
       "    .dataframe tbody tr th {\n",
       "        vertical-align: top;\n",
       "    }\n",
       "\n",
       "    .dataframe thead th {\n",
       "        text-align: right;\n",
       "    }\n",
       "</style>\n",
       "<table border=\"1\" class=\"dataframe\">\n",
       "  <thead>\n",
       "    <tr style=\"text-align: right;\">\n",
       "      <th></th>\n",
       "      <th>Date</th>\n",
       "      <th>Price</th>\n",
       "      <th>Open</th>\n",
       "      <th>High</th>\n",
       "      <th>Low</th>\n",
       "      <th>Vol.</th>\n",
       "      <th>Change %</th>\n",
       "    </tr>\n",
       "  </thead>\n",
       "  <tbody>\n",
       "    <tr>\n",
       "      <th>0</th>\n",
       "      <td>2020-11-11</td>\n",
       "      <td>140.60</td>\n",
       "      <td>140.85</td>\n",
       "      <td>141.02</td>\n",
       "      <td>139.52</td>\n",
       "      <td>-</td>\n",
       "      <td>-0.18%</td>\n",
       "    </tr>\n",
       "    <tr>\n",
       "      <th>1</th>\n",
       "      <td>2020-11-10</td>\n",
       "      <td>140.85</td>\n",
       "      <td>141.30</td>\n",
       "      <td>141.95</td>\n",
       "      <td>140.20</td>\n",
       "      <td>1.10K</td>\n",
       "      <td>-0.55%</td>\n",
       "    </tr>\n",
       "    <tr>\n",
       "      <th>2</th>\n",
       "      <td>2020-11-09</td>\n",
       "      <td>141.63</td>\n",
       "      <td>138.30</td>\n",
       "      <td>141.88</td>\n",
       "      <td>138.30</td>\n",
       "      <td>1.83K</td>\n",
       "      <td>2.85%</td>\n",
       "    </tr>\n",
       "    <tr>\n",
       "      <th>3</th>\n",
       "      <td>2020-11-06</td>\n",
       "      <td>137.70</td>\n",
       "      <td>137.27</td>\n",
       "      <td>138.40</td>\n",
       "      <td>137.00</td>\n",
       "      <td>0.77K</td>\n",
       "      <td>0.09%</td>\n",
       "    </tr>\n",
       "    <tr>\n",
       "      <th>4</th>\n",
       "      <td>2020-11-05</td>\n",
       "      <td>137.57</td>\n",
       "      <td>137.70</td>\n",
       "      <td>138.50</td>\n",
       "      <td>136.60</td>\n",
       "      <td>0.85K</td>\n",
       "      <td>-0.09%</td>\n",
       "    </tr>\n",
       "  </tbody>\n",
       "</table>\n",
       "</div>"
      ],
      "text/plain": [
       "        Date   Price    Open    High     Low   Vol. Change %\n",
       "0 2020-11-11  140.60  140.85  141.02  139.52      -   -0.18%\n",
       "1 2020-11-10  140.85  141.30  141.95  140.20  1.10K   -0.55%\n",
       "2 2020-11-09  141.63  138.30  141.88  138.30  1.83K    2.85%\n",
       "3 2020-11-06  137.70  137.27  138.40  137.00  0.77K    0.09%\n",
       "4 2020-11-05  137.57  137.70  138.50  136.60  0.85K   -0.09%"
      ]
     },
     "execution_count": 31,
     "metadata": {},
     "output_type": "execute_result"
    }
   ],
   "source": [
    "feeder_cattle = pd.read_csv(\"../original_data/feeder_cattle.csv\")\n",
    "feeder_cattle[\"Date\"] = pd.to_datetime(feeder_cattle[\"Date\"])\n",
    "feeder_cattle.head()"
   ]
  },
  {
   "cell_type": "code",
   "execution_count": 32,
   "metadata": {},
   "outputs": [
    {
     "data": {
      "text/html": [
       "<div>\n",
       "<style scoped>\n",
       "    .dataframe tbody tr th:only-of-type {\n",
       "        vertical-align: middle;\n",
       "    }\n",
       "\n",
       "    .dataframe tbody tr th {\n",
       "        vertical-align: top;\n",
       "    }\n",
       "\n",
       "    .dataframe thead th {\n",
       "        text-align: right;\n",
       "    }\n",
       "</style>\n",
       "<table border=\"1\" class=\"dataframe\">\n",
       "  <thead>\n",
       "    <tr style=\"text-align: right;\">\n",
       "      <th></th>\n",
       "      <th>Date</th>\n",
       "      <th>Price</th>\n",
       "      <th>Open</th>\n",
       "      <th>High</th>\n",
       "      <th>Low</th>\n",
       "      <th>Vol.</th>\n",
       "      <th>Change %</th>\n",
       "    </tr>\n",
       "  </thead>\n",
       "  <tbody>\n",
       "    <tr>\n",
       "      <th>0</th>\n",
       "      <td>2020-11-11</td>\n",
       "      <td>112.400</td>\n",
       "      <td>111.725</td>\n",
       "      <td>112.700</td>\n",
       "      <td>111.200</td>\n",
       "      <td>-</td>\n",
       "      <td>0.47%</td>\n",
       "    </tr>\n",
       "    <tr>\n",
       "      <th>1</th>\n",
       "      <td>2020-11-10</td>\n",
       "      <td>111.875</td>\n",
       "      <td>111.425</td>\n",
       "      <td>112.300</td>\n",
       "      <td>111.400</td>\n",
       "      <td>36.68K</td>\n",
       "      <td>0.04%</td>\n",
       "    </tr>\n",
       "    <tr>\n",
       "      <th>2</th>\n",
       "      <td>2020-11-09</td>\n",
       "      <td>111.825</td>\n",
       "      <td>109.400</td>\n",
       "      <td>111.950</td>\n",
       "      <td>109.350</td>\n",
       "      <td>45.62K</td>\n",
       "      <td>2.92%</td>\n",
       "    </tr>\n",
       "    <tr>\n",
       "      <th>3</th>\n",
       "      <td>2020-11-06</td>\n",
       "      <td>108.650</td>\n",
       "      <td>108.175</td>\n",
       "      <td>109.125</td>\n",
       "      <td>108.075</td>\n",
       "      <td>32.62K</td>\n",
       "      <td>0.28%</td>\n",
       "    </tr>\n",
       "    <tr>\n",
       "      <th>4</th>\n",
       "      <td>2020-11-05</td>\n",
       "      <td>108.350</td>\n",
       "      <td>108.675</td>\n",
       "      <td>109.000</td>\n",
       "      <td>107.825</td>\n",
       "      <td>26.05K</td>\n",
       "      <td>0.44%</td>\n",
       "    </tr>\n",
       "  </tbody>\n",
       "</table>\n",
       "</div>"
      ],
      "text/plain": [
       "        Date    Price     Open     High      Low    Vol. Change %\n",
       "0 2020-11-11  112.400  111.725  112.700  111.200       -    0.47%\n",
       "1 2020-11-10  111.875  111.425  112.300  111.400  36.68K    0.04%\n",
       "2 2020-11-09  111.825  109.400  111.950  109.350  45.62K    2.92%\n",
       "3 2020-11-06  108.650  108.175  109.125  108.075  32.62K    0.28%\n",
       "4 2020-11-05  108.350  108.675  109.000  107.825  26.05K    0.44%"
      ]
     },
     "execution_count": 32,
     "metadata": {},
     "output_type": "execute_result"
    }
   ],
   "source": [
    "live_cattle = pd.read_csv(\"../original_data/live_cattle.csv\")\n",
    "live_cattle[\"Date\"] = pd.to_datetime(live_cattle[\"Date\"])\n",
    "live_cattle.head()"
   ]
  },
  {
   "cell_type": "code",
   "execution_count": 33,
   "metadata": {},
   "outputs": [],
   "source": [
    "lean_hogs[\"Price per unit (USD/lb)\"] = lean_hogs[\"Price\"]/(1000*float(str(lean_hogs[\"Vol.\"]).split(\"K\")[0].split()[-1]))\n",
    "feeder_cattle[\"Price per unit (USD/lb)\"] = feeder_cattle[\"Price\"]/(1000*float(str(feeder_cattle[\"Vol.\"]).split(\"K\")[0].split()[-1]))\n",
    "live_cattle[\"Price per unit (USD/lb)\"] = live_cattle[\"Price\"]/(1000*float(str(live_cattle[\"Vol.\"]).split(\"K\")[0].split()[-1]))\n",
    "\n",
    "lean_hogs_df = lean_hogs[[\"Date\", \"Price per unit (USD/lb)\"]]\n",
    "feeder_cattle_df = feeder_cattle[[\"Date\", \"Price per unit (USD/lb)\"]]\n",
    "live_cattle_df = live_cattle[[\"Date\", \"Price per unit (USD/lb)\"]]"
   ]
  },
  {
   "cell_type": "code",
   "execution_count": 34,
   "metadata": {},
   "outputs": [
    {
     "data": {
      "text/html": [
       "<div>\n",
       "<style scoped>\n",
       "    .dataframe tbody tr th:only-of-type {\n",
       "        vertical-align: middle;\n",
       "    }\n",
       "\n",
       "    .dataframe tbody tr th {\n",
       "        vertical-align: top;\n",
       "    }\n",
       "\n",
       "    .dataframe thead th {\n",
       "        text-align: right;\n",
       "    }\n",
       "</style>\n",
       "<table border=\"1\" class=\"dataframe\">\n",
       "  <thead>\n",
       "    <tr style=\"text-align: right;\">\n",
       "      <th></th>\n",
       "      <th>Date</th>\n",
       "      <th>Price per unit (USD/lb)</th>\n",
       "    </tr>\n",
       "  </thead>\n",
       "  <tbody>\n",
       "    <tr>\n",
       "      <th>0</th>\n",
       "      <td>2020-11-11</td>\n",
       "      <td>0.002690</td>\n",
       "    </tr>\n",
       "    <tr>\n",
       "      <th>1</th>\n",
       "      <td>2020-11-10</td>\n",
       "      <td>0.002704</td>\n",
       "    </tr>\n",
       "    <tr>\n",
       "      <th>2</th>\n",
       "      <td>2020-11-09</td>\n",
       "      <td>0.002723</td>\n",
       "    </tr>\n",
       "    <tr>\n",
       "      <th>3</th>\n",
       "      <td>2020-11-06</td>\n",
       "      <td>0.002694</td>\n",
       "    </tr>\n",
       "    <tr>\n",
       "      <th>4</th>\n",
       "      <td>2020-11-05</td>\n",
       "      <td>0.002799</td>\n",
       "    </tr>\n",
       "  </tbody>\n",
       "</table>\n",
       "</div>"
      ],
      "text/plain": [
       "        Date  Price per unit (USD/lb)\n",
       "0 2020-11-11                 0.002690\n",
       "1 2020-11-10                 0.002704\n",
       "2 2020-11-09                 0.002723\n",
       "3 2020-11-06                 0.002694\n",
       "4 2020-11-05                 0.002799"
      ]
     },
     "execution_count": 34,
     "metadata": {},
     "output_type": "execute_result"
    }
   ],
   "source": [
    "lean_hogs_df.head()"
   ]
  },
  {
   "cell_type": "code",
   "execution_count": 35,
   "metadata": {},
   "outputs": [
    {
     "data": {
      "text/html": [
       "<div>\n",
       "<style scoped>\n",
       "    .dataframe tbody tr th:only-of-type {\n",
       "        vertical-align: middle;\n",
       "    }\n",
       "\n",
       "    .dataframe tbody tr th {\n",
       "        vertical-align: top;\n",
       "    }\n",
       "\n",
       "    .dataframe thead th {\n",
       "        text-align: right;\n",
       "    }\n",
       "</style>\n",
       "<table border=\"1\" class=\"dataframe\">\n",
       "  <thead>\n",
       "    <tr style=\"text-align: right;\">\n",
       "      <th></th>\n",
       "      <th>Date</th>\n",
       "      <th>Price per unit (USD/lb)</th>\n",
       "    </tr>\n",
       "  </thead>\n",
       "  <tbody>\n",
       "    <tr>\n",
       "      <th>0</th>\n",
       "      <td>2020-11-11</td>\n",
       "      <td>0.127818</td>\n",
       "    </tr>\n",
       "    <tr>\n",
       "      <th>1</th>\n",
       "      <td>2020-11-10</td>\n",
       "      <td>0.128045</td>\n",
       "    </tr>\n",
       "    <tr>\n",
       "      <th>2</th>\n",
       "      <td>2020-11-09</td>\n",
       "      <td>0.128755</td>\n",
       "    </tr>\n",
       "    <tr>\n",
       "      <th>3</th>\n",
       "      <td>2020-11-06</td>\n",
       "      <td>0.125182</td>\n",
       "    </tr>\n",
       "    <tr>\n",
       "      <th>4</th>\n",
       "      <td>2020-11-05</td>\n",
       "      <td>0.125064</td>\n",
       "    </tr>\n",
       "  </tbody>\n",
       "</table>\n",
       "</div>"
      ],
      "text/plain": [
       "        Date  Price per unit (USD/lb)\n",
       "0 2020-11-11                 0.127818\n",
       "1 2020-11-10                 0.128045\n",
       "2 2020-11-09                 0.128755\n",
       "3 2020-11-06                 0.125182\n",
       "4 2020-11-05                 0.125064"
      ]
     },
     "execution_count": 35,
     "metadata": {},
     "output_type": "execute_result"
    }
   ],
   "source": [
    "feeder_cattle_df.head()"
   ]
  },
  {
   "cell_type": "code",
   "execution_count": 36,
   "metadata": {},
   "outputs": [
    {
     "data": {
      "text/html": [
       "<div>\n",
       "<style scoped>\n",
       "    .dataframe tbody tr th:only-of-type {\n",
       "        vertical-align: middle;\n",
       "    }\n",
       "\n",
       "    .dataframe tbody tr th {\n",
       "        vertical-align: top;\n",
       "    }\n",
       "\n",
       "    .dataframe thead th {\n",
       "        text-align: right;\n",
       "    }\n",
       "</style>\n",
       "<table border=\"1\" class=\"dataframe\">\n",
       "  <thead>\n",
       "    <tr style=\"text-align: right;\">\n",
       "      <th></th>\n",
       "      <th>Date</th>\n",
       "      <th>Price per unit (USD/lb)</th>\n",
       "    </tr>\n",
       "  </thead>\n",
       "  <tbody>\n",
       "    <tr>\n",
       "      <th>0</th>\n",
       "      <td>2020-11-11</td>\n",
       "      <td>0.003064</td>\n",
       "    </tr>\n",
       "    <tr>\n",
       "      <th>1</th>\n",
       "      <td>2020-11-10</td>\n",
       "      <td>0.003050</td>\n",
       "    </tr>\n",
       "    <tr>\n",
       "      <th>2</th>\n",
       "      <td>2020-11-09</td>\n",
       "      <td>0.003049</td>\n",
       "    </tr>\n",
       "    <tr>\n",
       "      <th>3</th>\n",
       "      <td>2020-11-06</td>\n",
       "      <td>0.002962</td>\n",
       "    </tr>\n",
       "    <tr>\n",
       "      <th>4</th>\n",
       "      <td>2020-11-05</td>\n",
       "      <td>0.002954</td>\n",
       "    </tr>\n",
       "  </tbody>\n",
       "</table>\n",
       "</div>"
      ],
      "text/plain": [
       "        Date  Price per unit (USD/lb)\n",
       "0 2020-11-11                 0.003064\n",
       "1 2020-11-10                 0.003050\n",
       "2 2020-11-09                 0.003049\n",
       "3 2020-11-06                 0.002962\n",
       "4 2020-11-05                 0.002954"
      ]
     },
     "execution_count": 36,
     "metadata": {},
     "output_type": "execute_result"
    }
   ],
   "source": [
    "live_cattle_df.head()"
   ]
  },
  {
   "cell_type": "code",
   "execution_count": 37,
   "metadata": {},
   "outputs": [
    {
     "data": {
      "text/plain": [
       "'24.09'"
      ]
     },
     "execution_count": 37,
     "metadata": {},
     "output_type": "execute_result"
    }
   ],
   "source": [
    "str(lean_hogs[\"Vol.\"]).split(\"K\")[0].split()[-1]"
   ]
  },
  {
   "cell_type": "code",
   "execution_count": 38,
   "metadata": {},
   "outputs": [],
   "source": [
    "lean_hogs_df.to_csv(\"../output_data/csv/lean_hogs_new.csv\")\n",
    "feeder_cattle_df.to_csv(\"../output_data/csv/feeder_cattle_new.csv\")\n",
    "live_cattle_df.to_csv(\"../output_data/csv/live_cattle_new.csv\")"
   ]
  },
  {
   "cell_type": "code",
   "execution_count": 41,
   "metadata": {},
   "outputs": [
    {
     "data": {
      "image/png": "[encoded data removed]",
      "text/plain": [
       "<Figure size 432x288 with 1 Axes>"
      ]
     },
     "metadata": {
      "needs_background": "light"
     },
     "output_type": "display_data"
    }
   ],
   "source": [
    "plt.plot(lean_hogs_df[\"Date\"], lean_hogs_df[\"Price per unit (USD/lb)\"])\n",
    "plt.show()"
   ]
  },
  {
   "cell_type": "code",
   "execution_count": null,
   "metadata": {},
   "outputs": [],
   "source": [
    "lh_peak_value = lean_hogs_df[\"Price per unit (USD/lb)\"].max()\n",
    "lh_peak_value_date = lean_hogs_df.loc[lean_hogs_df[\"Price per unit (USD/lb)\"] == lh_peak_value][\"Date\"]\n",
    "summary_table = {\"Max\":lh_peak_value}"
   ]
  },
  {
   "cell_type": "code",
   "execution_count": 17,
   "metadata": {},
   "outputs": [
    {
     "data": {
      "text/plain": [
       "'Nov 11, 2020'"
      ]
     },
     "execution_count": 17,
     "metadata": {},
     "output_type": "execute_result"
    }
   ],
   "source": [
    "date = lean_hogs_df[\"Date\"][0]\n",
    "date"
   ]
  },
  {
   "cell_type": "code",
   "execution_count": 25,
   "metadata": {},
   "outputs": [
    {
     "data": {
      "text/plain": [
       "datetime.date(2020, 11, 11)"
      ]
     },
     "execution_count": 25,
     "metadata": {},
     "output_type": "execute_result"
    }
   ],
   "source": [
    "date_time = datetime.datetime.strptime(date, \"%b %d, %Y\").date()\n",
    "date_time"
   ]
  },
  {
   "cell_type": "code",
   "execution_count": null,
   "metadata": {},
   "outputs": [],
   "source": [
    "summar"
   ]
  },
  {
   "cell_type": "code",
   "execution_count": null,
   "metadata": {},
   "outputs": [],
   "source": []
  }
 ],
 "metadata": {
  "kernelspec": {
   "display_name": "Python 3",
   "language": "python",
   "name": "python3"
  },
  "language_info": {
   "codemirror_mode": {
    "name": "ipython",
    "version": 3
   },
   "file_extension": ".py",
   "mimetype": "text/x-python",
   "name": "python",
   "nbconvert_exporter": "python",
   "pygments_lexer": "ipython3",
   "version": "3.8.3"
  }
 },
 "nbformat": 4,
 "nbformat_minor": 4
}
